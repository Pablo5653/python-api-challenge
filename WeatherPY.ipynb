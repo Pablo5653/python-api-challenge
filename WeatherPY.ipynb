{
 "cells": [
  {
   "cell_type": "code",
   "execution_count": 27,
   "metadata": {},
   "outputs": [],
   "source": [
    "# Dependencies and Setup\n",
    "import matplotlib.pyplot as plt\n",
    "import pandas as pd\n",
    "import numpy as np\n",
    "import requests\n",
    "import time\n",
    "from scipy.stats import linregress\n",
    "from scipy import stats\n",
    "\n",
    "# Import API key\n",
    "from api_keys import weather_api_key\n",
    "\n",
    "# Incorporated citipy to determine city based on latitude and longitude\n",
    "from citipy import citipy\n",
    "\n",
    "# Output File (CSV)\n",
    "output_data_file = \"output_data/cities.csv\"\n",
    "\n",
    "# Range of latitudes and longitudes\n",
    "lat_range = (-90, 90)\n",
    "lng_range = (-180, 180)"
   ]
  },
  {
   "cell_type": "code",
   "execution_count": 2,
   "metadata": {},
   "outputs": [
    {
     "name": "stdout",
     "output_type": "stream",
     "text": [
      "['bolungarvik', 'palana', 'ushuaia', 'chuy', 'east london', 'busselton', 'rikitea', 'katsuura', 'baracoa', 'shenzhen', 'wanning', 'upernavik', 'mangrol', 'leningradskiy', 'khani', 'taolanaro', 'saint anthony', 'skelleftea', 'boyolangu', 'bow island', 'anadyr', 'port alfred', 'hermanus', 'georgetown', 'dikson', 'barrow', 'dicabisagan', 'punta arenas', 'ribeira grande', 'aklavik', 'qaanaaq', 'nantucket', 'saskylakh', 'thinadhoo', 'puerto ayora', 'polje', 'bluff', 'porto novo', 'faanui', 'orlik', 'svetlyy', 'mnogovershinnyy', 'jamestown', 'kodiak', 'shimoda', 'mahebourg', 'khatanga', 'mataura', 'pevek', 'kudahuvadhoo', 'kapaa', 'college', 'jurm', 'attawapiskat', 'azad shahr', 'arraial do cabo', 'fortuna', 'sangueya', 'kisesa', 'atuona', 'ilulissat', 'safranbolu', 'nanortalik', 'safaqis', 'guerrero negro', 'provideniya', 'pisco', 'malindi', 'thompson', 'ballina', 'illoqqortoormiut', 'lavrentiya', 'kaitangata', 'sitka', 'cape town', 'zhezkazgan', 'kavaratti', 'vaitupu', 'new norfolk', 'constitucion', 'koppang', 'cockburn town', 'nuevo progreso', 'duldurga', 'deputatskiy', 'amderma', 'notse', 'norrtalje', 'trairi', 'coron', 'waitara', 'lompoc', 'dondo', 'pangnirtung', 'port macquarie', 'portland', 'redmond', 'caibarien', 'buchanan', 'luderitz', 'vaini', 'roald', 'ahtopol', 'itarema', 'sinnamary', 'tautira', 'ndiekro', 'jingdezhen', 'cap malheureux', 'husavik', 'hilo', 'nemuro', 'richards bay', 'yerbogachen', 'marand', 'carnarvon', 'waupun', 'vaitape', 'tuktoyaktuk', 'norman wells', 'hambantota', 'plettenberg bay', 'tiksi', 'poum', 'severo-kurilsk', 'nizhneyansk', 'ruatoria', 'boden', 'rodrigues alves', 'saleaula', 'tumannyy', 'port elizabeth', 'chokurdakh', 'ponta delgada', 'sorland', 'tasiilaq', 'torbay', 'vredendal', 'albany', 'vardo', 'arman', 'rawson', 'barentsburg', 'cidreira', 'bengkulu', 'canon city', 'vestmannaeyjar', 'yakeshi', 'nikolskoye', 'beringovskiy', 'longyearbyen', 'krasnoarmeysk', 'aripuana', 'dalvik', 'gizo', 'mackay', 'sur', 'baykit', 'nome', 'rorvik', 'henties bay', 'oussouye', 'airai', 'tsogni', 'yarkovo', 'rungata', 'sablig', 'bilibino', 'coxim', 'arrifes', 'esperance', 'port lincoln', 'touros', 'townsville', 'namibe', 'tazovskiy', 'nokaneng', 'moramanga', 'galesong', 'khor', 'goderich', 'kruisfontein', 'ilhabela', 'ishigaki', 'anamur', 'valdivia', 'takoradi', 'grand-lahou', 'saint-louis', 'along', 'marcona', 'fontem', 'tsihombe', 'umzimvubu', 'tambun', 'sao joao da barra', 'hithadhoo', 'erzin', 'bredasdorp', 'butaritari', 'ponta do sol', 'gangotri', 'tianpeng', 'narsaq', 'katha', 'dunedin', 'mozelos', 'oranjestad', 'kiruna', 'dudinka', 'cherskiy', 'samarai', 'isangel', 'tuatapere', 'tornio', 'vetlanda', 'katobu', 'los llanos de aridane', 'bethel', 'geraldton', 'ahipara', 'dezhou', 'talcahuano', 'berlevag', 'isoka', 'najran', 'lerwick', 'ambatofinandrahana', 'marzuq', 'tigre', 'castro', 'tefe', 'avarua', 'lebu', 'port hedland', 'auki', 'wakkanai', 'masallatah', 'komsomolskiy', 'viedma', 'salalah', 'hobart', 'nizhnetroitskiy', 'victoria', 'calamar', 'lagoa', 'sevsk', 'boca do acre', 'wattegama', 'atar', 'garden city', 'ancud', 'pereslavl-zalesskiy', 'sokoni', 'te anau', 'mar del plata', 'kiunga', 'marrakesh', 'karratha', 'tabory', 'zhaocheng', 'san quintin', 'hofn', 'mrirt', 'paamiut', 'pareora', 'bumba', 'leh', 'acapulco', 'eldikan', 'yar-sale', 'salinopolis', 'sierning', 'half moon bay', 'havre-saint-pierre', 'woodward', 'tommot', 'brewster', 'misratah', 'paracuru', 'kaspiyskiy', 'russell', 'gwanda', 'fort saint james', 'camana', 'teacapan', 'roma', 'usinsk', 'voh', 'chiredzi', 'anchorage', 'huarmey', 'yellowknife', 'bur gabo', 'saint-augustin', 'belushya guba', 'lolua', 'pingyin', 'duvan', 'paramirim', 'kashi', 'asheboro', 'ust-tsilma', 'ballyhaunis', 'losevo', 'siguiri', 'nhulunbuy', 'cheuskiny', 'lebedinyy', 'muborak', 'maragheh', 'talnakh', 'baruun-urt', 'kloulklubed', 'iqaluit', 'mantua', 'grand river south east', 'nuuk', 'kushiro', 'bowen', 'tutoia', 'alekseyevsk', 'grindavik', 'chara', 'yaan', 'kuopio', 'bathsheba', 'adrar', 'san anselmo', 'loukhi', 'chkalovskoye', 'kavieng', 'lata', 'labuhan', 'abay', 'nargana', 'divnomorskoye', 'mount gambier', 'omboue', 'ranong', 'alofi', 'sherbakul', 'taoudenni', 'jatai', 'bitung', 'caravelas', 'inhambane', 'cabo san lucas', 'qasigiannguit', 'sao geraldo do araguaia', 'vila velha', 'yacopi', 'toliary', 'tonj', 'chikhli', 'kljuc', 'palabuhanratu', 'saint george', 'besancon', 'pori', 'santa cruz de la palma', 'bonavista', 'pacific grove', 'tubuala', 'jacareacanga', 'boralday', 'labytnangi', 'kimberley', 'chernyshevskiy', 'itoman', 'novoagansk', 'bafoulabe', 'leshukonskoye', 'keshan', 'stamsund', 'saint-georges', 'asau', 'kikwit', 'saldanha', 'muros', 'tamsweg', 'khandyga', 'mountain home', 'necochea', 'saint-pierre', 'ankazobe', 'tezu', 'steinbach', 'bulawayo', 'hutchinson', 'la ronge', 'cururupu', 'jieshi', 'kathu', 'tigzirt', 'abbeville', 'chagda', 'cabra', 'huangnihe', 'caapucu', 'bermejo', 'marsh harbour', 'haines junction', 'kirakira', 'mount isa', 'yeppoon', 'katangli', 'shelburne', 'aksarka', 'gweta', 'bulgan', 'coahuayana', 'preeceville', 'huaiyin', 'san juan', 'mantsala', 'saint-francois', 'kouango', 'karasjok', 'mattru', 'gotsu', 'namli', 'madison', 'oxford', 'mwense', 'srednekolymsk', 'talara', 'traverse city', 'viligili', 'alta floresta', 'sainte-maxime', 'souillac', 'sao joao de pirabas', 'litovko', 'rio gallegos', 'charters towers', 'kisaran', 'tawzar', 'sun prairie', 'lorengau', 'nefteyugansk', 'dwarka', 'vagur', 'yeniseysk', 'kearney', 'nyurba', 'ishcherskaya', 'amazar', 'maniitsoq', 'siocon', 'eyl', 'taihe', 'sao filipe', 'coquimbo', 'klaksvik', 'tabiauea', 'abyek', 'tain', 'mazatlan', 'barawe', 'shache', 'bam', 'beira', 'cumpas', 'omsukchan', 'hualmay', 'iquitos', 'port augusta', 'zhigansk', 'mabaruma', 'bosaso', 'mwinilunga', 'tsienyane', 'manggar', 'bubaque', 'mugur-aksy', 'luau', 'kerteh', 'shakawe', 'manaus', 'lufilufi', 'douentza', 'mehran', 'yaring', 'sangmelima', 'jalingo', 'san patricio', 'ixtapa', 'aden', 'spokane', 'cheney', 'akhaldaba', 'iwaki', 'goulburn', 'da nang', 'fairbanks', 'bayir', 'ambulu', 'san andres', 'comodoro rivadavia', 'aginskoye', 'conceicao do araguaia', 'cherepovets', 'hasaki', 'erdaojiang', 'santa isabel do rio negro', 'verkhoyansk', 'majene', 'tura', 'kazalinsk', 'huron', 'lodja', 'robat karim', 'turayf', 'safaga', 'bontang', 'minas novas', 'riyadh', 'hornepayne', 'satitoa', 'bandundu', 'camocim', 'mezen', 'hilton head island', 'nadym', 'bud', 'falealupo', 'aitape', 'weligama', 'antofagasta', 'balabac', 'seoul', 'talesh', 'abu dhabi', 'khorramshahr', 'rundu', 'tanout', 'moron', 'palmer', 'victor harbor', 'maamba', 'krasnoselkup', 'nguiu', 'bafra', 'sorong', 'mao', 'antalaha', 'dourbali', 'mys shmidta', 'aracati', 'saint-philippe', 'mehamn', 'cayenne', 'san cristobal', 'acari', 'sabang', 'la palma', 'brentwood', 'agadir', 'ostrovnoy', 'sept-iles', 'miyako', 'bossangoa', 'urengoy', 'bambous virieux', 'harnosand', 'merauke', 'codrington', 'ondjiva', 'juneau', 'garoua boulai', 'metu', 'luganville', 'sao felix do xingu', 'briceno', 'cassia', 'disna', 'yirol', 'vilhena', 'ushtobe', 'sarab', 'panguna', 'rincon', 'turukhansk', 'yatou', 'ostersund', 'balingasay', 'chihuahua', 'sorvag', 'rocha', 'faya', 'bandarbeyla', 'pozo colorado', 'teya', 'chingirlau', 'maxixe', 'prince rupert', 'kishi', 'kayankulam', 'cunha', 'puttur', 'yanam', 'utiroa', 'dingle', 'tatarsk', 'conde', 'tullahoma', 'barra dos coqueiros', 'wukari', 'hvammstangi', 'ambanja', 'nsanje', 'warrensburg', 'meyungs', 'west bay', 'lasa', 'clyde river', 'aykhal', 'pedasi', 'veshkayma', 'buraydah', 'linxia', 'reconquista', 'cap-aux-meules', 'scottsburgh', 'terra santa', 'champerico', 'hirara', 'warqla', 'merrill', 'whitehorse', 'mujiayingzi', 'ucluelet', 'abu samrah', 'neumunster', 'voyvozh']\n"
     ]
    }
   ],
   "source": [
    "# List for holding lat_lngs and cities\n",
    "lat_lngs = []\n",
    "cities = []\n",
    "\n",
    "# Create a set of random lat and lng combinations\n",
    "lats = np.random.uniform(low=-90.000, high=90.000, size=1500)\n",
    "lngs = np.random.uniform(low=-180.000, high=180.000, size=1500)\n",
    "lat_lngs = zip(lats, lngs)\n",
    "\n",
    "# Identify nearest city for each lat, lng combination\n",
    "for lat_lng in lat_lngs:\n",
    "    city = citipy.nearest_city(lat_lng[0], lat_lng[1]).city_name\n",
    "    \n",
    "    # If the city is unique, then add it to a our cities list\n",
    "    if city not in cities:\n",
    "        cities.append(city)\n",
    "\n",
    "# Print the city count to confirm sufficient count\n",
    "len(cities)\n",
    "print(cities)"
   ]
  },
  {
   "cell_type": "code",
   "execution_count": 3,
   "metadata": {},
   "outputs": [],
   "source": [
    "# Save config information.\n",
    "url = \"http://api.openweathermap.org/data/2.5/weather?\"\n",
    "units = \"metric\"\n",
    "\n",
    "# Build partial query URL\n",
    "query_url = f\"{url}appid={weather_api_key}&units={units}&q=\""
   ]
  },
  {
   "cell_type": "code",
   "execution_count": 4,
   "metadata": {},
   "outputs": [],
   "source": [
    "cities_500 = ['ijaki', 'bredasdorp', 'kalmar', 'meyungs', 'torbay', 'constitucion', 'burns lake', 'airai', 'punta arenas', 'caravelas', 'borovskoy', 'hilo', 'albany', 'tasiilaq', 'lisala', 'butaritari', 'viligili', 'atuona', 'burlington', 'saskylakh', 'jamestown', 'fort nelson', 'fernie', 'san-pedro', 'bonavista', 'mys shmidta', 'sentyabrskiy', 'ribeira grande', 'flinders', 'avarua', 'tiksi', 'silves', 'petropavlovsk-kamchatskiy', 'uptar', 'cape town', 'yatou', 'ilulissat', 'bluff', 'cherskiy', 'tarata', 'honiara', 'new norfolk', 'hobart', 'hermanus', 'cherdyn', 'grindavik', 'arraial do cabo', 'kapaa', 'belushya guba', 'vaini', 'rikitea', 'boras', 'mataura', 'watertown', 'hirara', 'kruisfontein', 'kenora', 'kirakira', 'bulawayo', 'port alfred', 'sambava', 'kimbe', 'port hardy', 'ponnani', 'geraldton', 'dikson', 'saint-philippe', 'palabuhanratu', 'ponta delgada', 'basco', 'alice town', 'wucheng', 'clyde river', 'krasnaya gorka', 'chokurdakh', 'nikolskoye', 'castro', 'puerto ayora', 'vilhena', 'amderma', 'murgab', 'beringovskiy', 'cidreira', 'camacari', 'areka', 'beloha', 'zhicheng', 'egvekinot', 'soyo', 'kroya', 'esperance', 'hasaki', 'yinchuan', 'saint-augustin', 'busselton', 'yellowknife', 'syracuse', 'coihaique', 'chernyshevskiy', 'anaco', 'klaksvik', 'oktyabrskiy', 'guerrero negro', 'carlsbad', 'sorland', 'lira', 'nuuk', 'dongobesh', 'ponta do sol', 'attawapiskat', 'tuktoyaktuk', 'bilara', 'fort dodge', 'qaanaaq', 'deputatskiy', 'taolanaro', 'krasnoyarsk-45', 'douglas', 'paralimni', 'kashi', 'rock sound', 'florence', 'saldanha', 'iwaki', 'bengkulu', 'kerema', 'strezhevoy', 'kavieng', 'opelousas', 'hendek', 'kapoeta', 'hithadhoo', 'chumikan', 'nkan', 'lebu', 'port elizabeth', 'acapulco', 'mountain home', 'talara', 'itarema', 'andros town', 'fort saint james', 'srednekolymsk', 'hambantota', 'faanui', 'sistranda', 'bairiki', 'pisco', 'port-cartier', 'east london', 'diego de almagro', 'ancud', 'bohdan', 'quanzhou', 'fort saint john', 'victoria', 'namatanai', 'cuamba', 'bethel', 'grand river south east', 'menongue', 'barrow', 'aykhal', 'san patricio', 'sao joao da barra', 'bronnoysund', 'georgetown', 'carnarvon', 'merauke', 'cabo san lucas', 'teguise', 'goderich', 'te anau', 'kaitangata', 'gighera', 'doctor pedro p. pena', 'santa cruz', 'pevek', 'rorvik', 'talaya', 'chicama', 'atambua', 'ntungamo', 'labuhan', 'ribas do rio pardo', 'amapa', 'upernavik', 'ahipara', 'saleaula', 'maryborough', 'linxia', 'harper', 'bam', 'vila franca do campo', 'nizhneyansk', 'sao pedro', 'labuan', 'svirsk', 'port hedland', 'awbari', 'saint-pierre', 'mehamn', 'borisovka', 'arboletes', 'husavik', 'lakes entrance', 'ushuaia', 'orlovka', 'mar del plata', 'atbasar', 'kahului', 'miramar', 'solovetskiy', 'bafq', 'cherat', 'boz', 'bolungarvik', 'tondano', 'codrington', 'boa vista', 'roald', 'yanchukan', 'korla', 'tecoanapa', 'jacqueville', 'lasa', 'kayes', 'kamenskoye', 'half moon bay', 'thompson', 'salalah', 'samarai', 'iqaluit', 'omaruru', 'provideniya', 'puerto carreno', 'paita', 'vila velha', 'gravdal', 'santander jimenez', 'vuktyl', 'khatanga', 'barentsburg', 'rawson', 'uglich', 'zhezkazgan', 'marawi', 'wanning', 'ust-tsilma', 'anloga', 'yumen', 'saint george', 'barentu', 'sosnovo-ozerskoye', 'bud', 'lavrentiya', 'marolambo', 'chuy', 'laguna', 'caarapo', 'andapa', 'touros', 'salekhard', 'vizinga', 'padang', 'hofn', 'kodiak', 'binzhou', 'severo-kurilsk', 'mount gambier', 'roros', 'rafai', 'vanavara', 'sinkat', 'vikhorevka', 'samusu', 'krasnomayskiy', 'kalabo', 'pacific grove', 'north bend', 'puerto escondido', 'bambous virieux', 'tabiauea', 'morehead', 'usinsk', 'dunedin', 'koppang', 'longyearbyen', 'kalmunai', 'nome', 'sinjar', 'mullaitivu', 'mandalgovi', 'sao joao da ponte', 'jatiroto', 'khorinsk', 'lyubytino', 'matara', 'ilheus', 'avera', 'mapiripan', 'mogadishu', 'port macquarie', 'pitimbu', 'san andres', 'norman wells', 'meulaboh', 'maldonado', 'yantikovo', 'matamoros', 'komsomolskiy', 'illoqqortoormiut', 'arys', 'gaurela', 'yulara', 'tazovskiy', 'chabahar', 'beitbridge', 'kindu', 'lompoc', 'bara', 'vaitupu', 'mahebourg', 'ornskoldsvik', 'ushtobe', 'polunochnoye', 'coquimbo', 'uray', 'tarudant', 'ulaangom', 'taltal', 'mitzic', 'frontino', 'cortez', 'liaozhong', 'mayo', 'limbang', 'anadyr', 'port blair', 'rawannawi', 'west bay', 'tarakan', 'plettenberg bay', 'hihifo', 'cayenne', 'tilichiki', 'aguimes', 'ambilobe', 'keuruu', 'conde', 'namibe', 'ust-maya', 'mbandaka', 'mrirt', 'adrar', 'biak', 'bargal', 'smithers', 'lorengau', 'daru', 'kamen-na-obi', 'nabisar', 'brae', 'ahuimanu', 'tuatapere', 'isangel', 'rudbar', 'ballina', 'mwinilunga', 'mandan', 'nagato', 'westport', 'kadykchan', 'orocue', 'ngunguru', 'richards bay', 'santa isabel do rio negro', 'omboue', 'quatre cocos', 'sturgis', 'ca mau', 'souillac', 'mikuni', 'preobrazheniye', 'brookings', 'dolbeau', 'hami', 'pandan', 'calabozo', 'izumo', 'san quintin', 'opuwo', 'canchungo', 'hobyo', 'bitung', 'lolua', 'sukhodol', 'hue', 'kabinda', 'port keats', 'vestmannaeyjar', 'xining', 'vastseliina', 'kholm-zhirkovskiy', 'nikel', 'escalerillas', 'maceio', 'makakilo city', 'nianzishan', 'erenhot', 'akureyri', 'quesnel', 'noumea', 'novyy urgal', 'vargem grande do sul', 'atar', 'fukue', 'alushta', 'aklavik', 'kampot', 'seoul', 'artyk', 'fairbanks', 'loyga', 'san luis', 'grand-lahou', 'holme', 'aswan', 'potsdam', 'nhamunda', 'dingle', 'barawe', 'portales', 'warrington', 'yakeshi', 'kentau', 'alofi', 'gornyy', 'remanso', 'narsaq', 'porterville', 'carson city', 'ossora', 'oussouye', 'asau', 'mareeba', 'muzhi', 'nivala', 'goundam', 'bosaso', 'pecos', 'sungaipenuh', 'mocuba', 'pangai', 'hvolsvollur', 'rio gallegos', 'gurskoye', 'larsnes', 'jalu', 'baruun-urt', 'sitka', 'grand gaube', 'caluquembe', 'banda aceh', 'ust-kalmanka', 'west wendover', 'shingu', 'cockburn town', 'kielce', 'tual', 'dicabisagan', 'barranquilla', 'christchurch', 'lac du bonnet', 'sirajganj', 'baykit', 'belle fourche', 'dalvik', 'marystown', 'adwa', 'bandarbeyla', 'kupang', 'yozgat', 'wingham', 'ixtapa', 'walvis bay', 'aflu', 'nishihara', 'port antonio', 'pahrump', 'lauro muller', 'rognan', 'charters towers', 'kyshtovka', 'lujan', 'do rud', 'nadym', 'blythe', 'filadelfia', 'ko samui', 'olinda', 'vilyuysk', 'suba', 'iskateley', 'comodoro rivadavia', 'pamanukan', 'guane', 'murmashi', 'san ignacio', 'parabel', 'alamogordo', 'huarmey', 'talnakh', 'mendoza', 'churachandpur', 'buala', 'maralal', 'marsh harbour', 'teya', 'bichena', 'nyurba', 'victor harbor', 'palmer', 'micheldorf', 'sassandra', 'auki', 'vostok', 'okhotsk', 'pombia', 'bocaiuva', 'yining', 'lander', 'ulyanovo', 'gumdag', 'honningsvag', 'la ronge', 'ayan', 'kavaratti', 'ouadda', 'labutta', 'zhanaozen', 'lulea', 'prince rupert', 'borger', 'keetmanshoop', 'lagoa', 'nexo', 'skibbereen', 'mayna', 'angostura', 'armacao dos buzios', 'byron bay', 'port-gentil', 'great yarmouth', 'katsuura', 'karratha', 'manadhoo', 'berlevag', 'manzil salim', 'fortuna', 'arnprior', 'arman', 'nizhneangarsk', 'gorlice', 'bubaque', 'eyl', 'alta floresta', 'bilma', 'ilanskiy', 'jinchang', 'bure', 'isabela', 'kozhva', 'southbridge', 'kuusamo', 'buariki', 'budacu de jos', 'haibowan', 'umm kaddadah', 'mildura', 'shibetsu', 'glyadyanskoye', 'leningradskiy', 'tsentralnyy', 'fort-shevchenko', 'tura', 'harer', 'qatana', 'doka', 'skelleftea', 'whangarei', 'wasilla', 'bumba', 'monrovia', 'svetlaya', 'betsiamites', 'russell', 'ostrovnoy', 'la palma', 'lebyazhye', 'ouesso', 'gao', 'galgani', 'tokat', 'kismayo', 'woodstock', 'nemuro', 'sisimiut']"
   ]
  },
  {
   "cell_type": "code",
   "execution_count": 5,
   "metadata": {},
   "outputs": [
    {
     "name": "stdout",
     "output_type": "stream",
     "text": [
      "The latitude information received is: [48.85, 51.51, 59.91, 39.91, 19.01, 14.6, 40.71, 47.61, 32.77, 24]\n",
      "The temperature information received is: [9.78, 12.86, 8.32, 31.56, 29, 31.26, 26.7, 14.87, 28.22, 31.46]\n",
      "The humidity information received is: [87, 82, 97, 48, 83, 70, 57, 93, 23, 66]\n",
      "The wind speed information received is: [2.1, 3.6, 0.18, 0.74, 2.1, 3.6, 2.6, 3.1, 5.1, 4.1]\n",
      "The clouds information received is: [16, 100, 0, 33, 40, 75, 1, 90, 1, 75]\n",
      "{'coord': {'lon': 121, 'lat': 24}, 'weather': [{'id': 803, 'main': 'Clouds', 'description': 'broken clouds', 'icon': '04d'}], 'base': 'stations', 'main': {'temp': 31.46, 'feels_like': 34.6, 'temp_min': 31, 'temp_max': 31.67, 'pressure': 1012, 'humidity': 66}, 'visibility': 10000, 'wind': {'speed': 4.1, 'deg': 170}, 'clouds': {'all': 75}, 'dt': 1591758030, 'sys': {'type': 1, 'id': 7941, 'country': 'TW', 'sunrise': 1591736875, 'sunset': 1591785793}, 'timezone': 28800, 'id': 1668284, 'name': 'Taiwan', 'cod': 200}\n"
     ]
    }
   ],
   "source": [
    "cities = [\"Paris\", \"London\", \"Oslo\", \"Beijing\", \"Mumbai\", \"Manila\", \"New York\", \"Seattle\", \"Dallas\", \"Taiwan\"]\n",
    "\n",
    "# set up lists to hold reponse info\n",
    "lat = []\n",
    "temp = []\n",
    "hum =[]\n",
    "speed = []\n",
    "clouds = []\n",
    "\n",
    "\n",
    "# Loop through the list of cities and perform a request for data on each\n",
    "for city in cities:\n",
    "    response = requests.get(query_url + city).json()\n",
    "    lat.append(response['coord']['lat'])\n",
    "    temp.append(response['main']['temp'])\n",
    "    hum.append(response['main']['humidity'])\n",
    "    speed.append(response['wind']['speed'])\n",
    "    clouds.append(response['clouds']['all'])\n",
    "    \n",
    "\n",
    "print(f\"The latitude information received is: {lat}\")\n",
    "print(f\"The temperature information received is: {temp}\")\n",
    "print(f\"The humidity information received is: {hum}\")\n",
    "print(f\"The wind speed information received is: {speed}\")\n",
    "print(f\"The clouds information received is: {clouds}\")\n",
    "\n",
    "print(response)"
   ]
  },
  {
   "cell_type": "code",
   "execution_count": 6,
   "metadata": {},
   "outputs": [
    {
     "data": {
      "text/html": [
       "<div>\n",
       "<style scoped>\n",
       "    .dataframe tbody tr th:only-of-type {\n",
       "        vertical-align: middle;\n",
       "    }\n",
       "\n",
       "    .dataframe tbody tr th {\n",
       "        vertical-align: top;\n",
       "    }\n",
       "\n",
       "    .dataframe thead th {\n",
       "        text-align: right;\n",
       "    }\n",
       "</style>\n",
       "<table border=\"1\" class=\"dataframe\">\n",
       "  <thead>\n",
       "    <tr style=\"text-align: right;\">\n",
       "      <th></th>\n",
       "      <th>city</th>\n",
       "      <th>lat</th>\n",
       "      <th>temp</th>\n",
       "      <th>wind speed</th>\n",
       "      <th>humidity</th>\n",
       "      <th>Cloudiness</th>\n",
       "    </tr>\n",
       "  </thead>\n",
       "  <tbody>\n",
       "    <tr>\n",
       "      <td>0</td>\n",
       "      <td>Paris</td>\n",
       "      <td>48.85</td>\n",
       "      <td>9.78</td>\n",
       "      <td>2.10</td>\n",
       "      <td>87</td>\n",
       "      <td>16</td>\n",
       "    </tr>\n",
       "    <tr>\n",
       "      <td>1</td>\n",
       "      <td>London</td>\n",
       "      <td>51.51</td>\n",
       "      <td>12.86</td>\n",
       "      <td>3.60</td>\n",
       "      <td>82</td>\n",
       "      <td>100</td>\n",
       "    </tr>\n",
       "    <tr>\n",
       "      <td>2</td>\n",
       "      <td>Oslo</td>\n",
       "      <td>59.91</td>\n",
       "      <td>8.32</td>\n",
       "      <td>0.18</td>\n",
       "      <td>97</td>\n",
       "      <td>0</td>\n",
       "    </tr>\n",
       "    <tr>\n",
       "      <td>3</td>\n",
       "      <td>Beijing</td>\n",
       "      <td>39.91</td>\n",
       "      <td>31.56</td>\n",
       "      <td>0.74</td>\n",
       "      <td>48</td>\n",
       "      <td>33</td>\n",
       "    </tr>\n",
       "    <tr>\n",
       "      <td>4</td>\n",
       "      <td>Mumbai</td>\n",
       "      <td>19.01</td>\n",
       "      <td>29.00</td>\n",
       "      <td>2.10</td>\n",
       "      <td>83</td>\n",
       "      <td>40</td>\n",
       "    </tr>\n",
       "    <tr>\n",
       "      <td>5</td>\n",
       "      <td>Manila</td>\n",
       "      <td>14.60</td>\n",
       "      <td>31.26</td>\n",
       "      <td>3.60</td>\n",
       "      <td>70</td>\n",
       "      <td>75</td>\n",
       "    </tr>\n",
       "    <tr>\n",
       "      <td>6</td>\n",
       "      <td>New York</td>\n",
       "      <td>40.71</td>\n",
       "      <td>26.70</td>\n",
       "      <td>2.60</td>\n",
       "      <td>57</td>\n",
       "      <td>1</td>\n",
       "    </tr>\n",
       "    <tr>\n",
       "      <td>7</td>\n",
       "      <td>Seattle</td>\n",
       "      <td>47.61</td>\n",
       "      <td>14.87</td>\n",
       "      <td>3.10</td>\n",
       "      <td>93</td>\n",
       "      <td>90</td>\n",
       "    </tr>\n",
       "    <tr>\n",
       "      <td>8</td>\n",
       "      <td>Dallas</td>\n",
       "      <td>32.77</td>\n",
       "      <td>28.22</td>\n",
       "      <td>5.10</td>\n",
       "      <td>23</td>\n",
       "      <td>1</td>\n",
       "    </tr>\n",
       "    <tr>\n",
       "      <td>9</td>\n",
       "      <td>Taiwan</td>\n",
       "      <td>24.00</td>\n",
       "      <td>31.46</td>\n",
       "      <td>4.10</td>\n",
       "      <td>66</td>\n",
       "      <td>75</td>\n",
       "    </tr>\n",
       "  </tbody>\n",
       "</table>\n",
       "</div>"
      ],
      "text/plain": [
       "       city    lat   temp  wind speed  humidity  Cloudiness\n",
       "0     Paris  48.85   9.78        2.10        87          16\n",
       "1    London  51.51  12.86        3.60        82         100\n",
       "2      Oslo  59.91   8.32        0.18        97           0\n",
       "3   Beijing  39.91  31.56        0.74        48          33\n",
       "4    Mumbai  19.01  29.00        2.10        83          40\n",
       "5    Manila  14.60  31.26        3.60        70          75\n",
       "6  New York  40.71  26.70        2.60        57           1\n",
       "7   Seattle  47.61  14.87        3.10        93          90\n",
       "8    Dallas  32.77  28.22        5.10        23           1\n",
       "9    Taiwan  24.00  31.46        4.10        66          75"
      ]
     },
     "execution_count": 6,
     "metadata": {},
     "output_type": "execute_result"
    }
   ],
   "source": [
    "# create a data frame from cities\n",
    "weather_dict = {\n",
    "    \"city\": cities,\n",
    "    \"lat\": lat,\n",
    "    \"temp\": temp,\n",
    "    \"wind speed\": speed,\n",
    "    \"humidity\": hum,\n",
    "    \"Cloudiness\": clouds\n",
    "}\n",
    "weather_data = pd.DataFrame(weather_dict)\n",
    "weather_data"
   ]
  },
  {
   "cell_type": "code",
   "execution_count": 16,
   "metadata": {},
   "outputs": [
    {
     "data": {
      "image/png": "[encoded data removed]",
      "text/plain": [
       "<Figure size 432x288 with 1 Axes>"
      ]
     },
     "metadata": {
      "needs_background": "light"
     },
     "output_type": "display_data"
    }
   ],
   "source": [
    "# Create a Scatter Plot for temperature vs latitude\n",
    "x_values_lat = weather_data['lat']\n",
    "y_values_temp = weather_data['temp']\n",
    "plt.scatter(x_values_lat,y_values_temp)\n",
    "plt.xlabel('Latitude')\n",
    "plt.ylabel('Temperature')\n",
    "plt.show()"
   ]
  },
  {
   "cell_type": "code",
   "execution_count": 17,
   "metadata": {},
   "outputs": [
    {
     "data": {
      "image/png": "[encoded data removed]",
      "text/plain": [
       "<Figure size 432x288 with 1 Axes>"
      ]
     },
     "metadata": {
      "needs_background": "light"
     },
     "output_type": "display_data"
    }
   ],
   "source": [
    "# Create a Scatter Plot for Humidity vs latitude\n",
    "x_values_lat = weather_data['lat']\n",
    "y_values_hum = weather_data['humidity']\n",
    "plt.scatter(x_values_lat,y_values_hum)\n",
    "plt.xlabel('Latitude')\n",
    "plt.ylabel('Humidity')\n",
    "plt.show()"
   ]
  },
  {
   "cell_type": "code",
   "execution_count": 18,
   "metadata": {},
   "outputs": [
    {
     "data": {
      "image/png": "[encoded data removed]",
      "text/plain": [
       "<Figure size 432x288 with 1 Axes>"
      ]
     },
     "metadata": {
      "needs_background": "light"
     },
     "output_type": "display_data"
    }
   ],
   "source": [
    "# Create a Scatter Plot for Cloudiness vs latitude\n",
    "x_values_lat = weather_data['lat']\n",
    "y_values_cloud = weather_data['Cloudiness']\n",
    "plt.scatter(x_values_lat,y_values_cloud)\n",
    "plt.xlabel('Latitude')\n",
    "plt.ylabel('Cloudiness')\n",
    "plt.show()"
   ]
  },
  {
   "cell_type": "code",
   "execution_count": 19,
   "metadata": {},
   "outputs": [
    {
     "data": {
      "image/png": "[encoded data removed]",
      "text/plain": [
       "<Figure size 432x288 with 1 Axes>"
      ]
     },
     "metadata": {
      "needs_background": "light"
     },
     "output_type": "display_data"
    }
   ],
   "source": [
    "# Create a Scatter Plot for wind vs latitude\n",
    "x_values_lat = weather_data['lat']\n",
    "y_values_speed = weather_data['wind speed']\n",
    "plt.scatter(x_values_lat,y_values_speed)\n",
    "plt.xlabel('Latitude')\n",
    "plt.ylabel('wind speed')\n",
    "plt.show()"
   ]
  },
  {
   "cell_type": "code",
   "execution_count": 20,
   "metadata": {},
   "outputs": [
    {
     "name": "stdout",
     "output_type": "stream",
     "text": [
      "0    16.378362\n",
      "1    14.916445\n",
      "2    10.299865\n",
      "3    21.291723\n",
      "4    32.778215\n",
      "5    35.201920\n",
      "6    20.852049\n",
      "7    17.059858\n",
      "8    25.215817\n",
      "9    30.035747\n",
      "Name: lat, dtype: float64\n"
     ]
    }
   ],
   "source": [
    "# Perform a linear regression on temperature vs. latitude\n",
    "(slope, intercept, rvalue, pvalue, stderr) = stats.linregress(x_values_lat, y_values_temp)\n",
    "\n",
    "# Get regression values\n",
    "regress_values = x_values_lat * slope + intercept\n",
    "print(regress_values)"
   ]
  },
  {
   "cell_type": "code",
   "execution_count": 21,
   "metadata": {},
   "outputs": [
    {
     "name": "stdout",
     "output_type": "stream",
     "text": [
      "y = -0.55x +43.23\n"
     ]
    }
   ],
   "source": [
    "# Create line equation string\n",
    "line_eq = \"y = \" + str(round(slope,2)) + \"x +\" + str(round(intercept,2))\n",
    "print(line_eq)"
   ]
  },
  {
   "cell_type": "code",
   "execution_count": 22,
   "metadata": {},
   "outputs": [
    {
     "name": "stdout",
     "output_type": "stream",
     "text": [
      "The r-squared is: -0.8483829342381571\n"
     ]
    },
    {
     "data": {
      "image/png": "[encoded data removed]",
      "text/plain": [
       "<Figure size 432x288 with 1 Axes>"
      ]
     },
     "metadata": {
      "needs_background": "light"
     },
     "output_type": "display_data"
    }
   ],
   "source": [
    "# Create Plot\n",
    "plt.scatter(x_values_lat,y_values_temp)\n",
    "plt.plot(x_values_lat,regress_values,\"r-\")\n",
    "\n",
    "# Label plot and annotate the line equation\n",
    "plt.xlabel('Latitude')\n",
    "plt.ylabel('Temperature')\n",
    "plt.annotate(line_eq,(20,15),fontsize=15,color=\"red\")\n",
    "\n",
    "# Print r square value \n",
    "print(f\"The r-squared is: {rvalue}\")\n",
    "\n",
    "# Show plot\n",
    "plt.show()"
   ]
  },
  {
   "cell_type": "code",
   "execution_count": 23,
   "metadata": {},
   "outputs": [
    {
     "name": "stdout",
     "output_type": "stream",
     "text": [
      "y = 0.56x +49.21\n",
      "The r-squared is: 0.3682892454776247\n"
     ]
    },
    {
     "data": {
      "image/png": "[encoded data removed]",
      "text/plain": [
       "<Figure size 432x288 with 1 Axes>"
      ]
     },
     "metadata": {
      "needs_background": "light"
     },
     "output_type": "display_data"
    }
   ],
   "source": [
    "# Perform a linear regression on humidity vs. latitude\n",
    "(slope, intercept, rvalue, pvalue, stderr) = stats.linregress(x_values_lat, y_values_hum)\n",
    "\n",
    "# Get regression values\n",
    "regress_values = x_values_lat * slope + intercept\n",
    "#print(regress_values)\n",
    "\n",
    "# Create line equation string\n",
    "line_eq = \"y = \" + str(round(slope,2)) + \"x +\" + str(round(intercept,2))\n",
    "print(line_eq)\n",
    "\n",
    "# Create Plot\n",
    "plt.scatter(x_values_lat,y_values_hum)\n",
    "plt.plot(x_values_lat,regress_values,\"r-\")\n",
    "\n",
    "# Label plot and annotate the line equation\n",
    "plt.xlabel('Latitude')\n",
    "plt.ylabel('Humidity')\n",
    "plt.annotate(line_eq,(20,15),fontsize=15,color=\"red\")\n",
    "\n",
    "# Print r square value \n",
    "print(f\"The r-squared is: {rvalue}\")\n",
    "\n",
    "# Show plot\n",
    "plt.show()\n"
   ]
  },
  {
   "cell_type": "code",
   "execution_count": 25,
   "metadata": {},
   "outputs": [
    {
     "name": "stdout",
     "output_type": "stream",
     "text": [
      "y = 0.56x +49.21\n",
      "The r-squared is: 0.3682892454776247\n"
     ]
    },
    {
     "data": {
      "image/png": "[encoded data removed]",
      "text/plain": [
       "<Figure size 432x288 with 1 Axes>"
      ]
     },
     "metadata": {
      "needs_background": "light"
     },
     "output_type": "display_data"
    }
   ],
   "source": [
    "# Perform a linear regression on cloudiness vs. latitude\n",
    "(slope, intercept, rvalue, pvalue, stderr) = stats.linregress(x_values_lat, y_values_hum)\n",
    "\n",
    "# Get regression values\n",
    "regress_values = x_values_lat * slope + intercept\n",
    "#print(regress_values)\n",
    "\n",
    "# Create line equation string\n",
    "line_eq = \"y = \" + str(round(slope,2)) + \"x +\" + str(round(intercept,2))\n",
    "print(line_eq)\n",
    "\n",
    "# Create Plot\n",
    "plt.scatter(x_values_lat,y_values_cloud)\n",
    "plt.plot(x_values_lat,regress_values,\"r-\")\n",
    "\n",
    "# Label plot and annotate the line equation\n",
    "plt.xlabel('Latitude')\n",
    "plt.ylabel('cloudinnes')\n",
    "plt.annotate(line_eq,(20,15),fontsize=15,color=\"red\")\n",
    "\n",
    "# Print r square value \n",
    "print(f\"The r-squared is: {rvalue}\")\n",
    "\n",
    "# Show plot\n",
    "plt.show()\n"
   ]
  },
  {
   "cell_type": "code",
   "execution_count": null,
   "metadata": {},
   "outputs": [],
   "source": []
  }
 ],
 "metadata": {
  "kernelspec": {
   "display_name": "Python 3",
   "language": "python",
   "name": "python3"
  },
  "language_info": {
   "codemirror_mode": {
    "name": "ipython",
    "version": 3
   },
   "file_extension": ".py",
   "mimetype": "text/x-python",
   "name": "python",
   "nbconvert_exporter": "python",
   "pygments_lexer": "ipython3",
   "version": "3.7.4"
  }
 },
 "nbformat": 4,
 "nbformat_minor": 2
}
